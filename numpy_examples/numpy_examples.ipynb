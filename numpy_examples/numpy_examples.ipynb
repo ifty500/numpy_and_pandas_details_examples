{
 "cells": [
  {
   "cell_type": "markdown",
   "metadata": {},
   "source": [
    ".3# NumPy\n",
    "\n",
    "numpy is python's package for doing math that is more advanced than +-*/\n",
    "\n",
    "This includes special functions like cosine, exponential, sqrt, ...\n",
    "\n",
    "On top of this we can use numpy to generate samples from many types of random variables\n",
    "\n",
    "numpy also has a powerful data type to define vectors, matrices, and tensors\n",
    "\n",
    "With these data types numpy also allows us to do linear algebra - matrix multiplication and matrix-vector solutions"
   ]
  },
  {
   "cell_type": "code",
   "execution_count": 38,
   "metadata": {},
   "outputs": [],
   "source": [
    "# the first step of using numpy is to tell python to use it\n",
    "import numpy as np"
   ]
  },
  {
   "cell_type": "code",
   "execution_count": 39,
   "metadata": {},
   "outputs": [
    {
     "name": "stdout",
     "output_type": "stream",
     "text": [
      "-1.0\n",
      "3.141592653589793\n",
      "1.1\n",
      "5.2\n"
     ]
    }
   ],
   "source": [
    "print(np.cos(np.pi))\n",
    "print(np.pi)\n",
    "print(np.sqrt(1.21))\n",
    "print(np.log(np.exp(5.2)))"
   ]
  },
  {
   "cell_type": "code",
   "execution_count": 40,
   "metadata": {},
   "outputs": [
    {
     "name": "stdout",
     "output_type": "stream",
     "text": [
      "[1 2 3]\n",
      "\n",
      "[[1 2 1]\n",
      " [4 5 9]\n",
      " [1 8 9]]\n",
      "\n",
      "[[1 4 1]\n",
      " [2 5 8]\n",
      " [1 9 9]]\n"
     ]
    }
   ],
   "source": [
    "# we can create numpy arrays by converting lists\n",
    "# this is a vector\n",
    "vec = np.array([1,2,3])\n",
    "print(vec)\n",
    "# we can create matrices by converting lists of lists\n",
    "mat = np.array([[1,2,1],[4,5,9],[1,8,9]])\n",
    "print('')\n",
    "print(mat)\n",
    "print('')\n",
    "print(mat.T)"
   ]
  },
  {
   "cell_type": "code",
   "execution_count": 41,
   "metadata": {},
   "outputs": [
    {
     "name": "stdout",
     "output_type": "stream",
     "text": [
      "[ 0  1  2  3  4  5  6  7  8  9 10 11 12 13 14]\n",
      "\n",
      "[ 3  9 15 21]\n"
     ]
    }
   ],
   "source": [
    "# there are lots of other ways to create numpy arrays\n",
    "vec2 = np.arange(0,15)\n",
    "print(vec2)\n",
    "print('')\n",
    "vec3 = np.arange(3,22,6)\n",
    "\n",
    "print(vec3)\n"
   ]
  },
  {
   "cell_type": "code",
   "execution_count": 42,
   "metadata": {},
   "outputs": [
    {
     "name": "stdout",
     "output_type": "stream",
     "text": [
      "[0.         0.55555556 1.11111111 1.66666667 2.22222222 2.77777778\n",
      " 3.33333333 3.88888889 4.44444444 5.        ]\n",
      "\n",
      "[[0.         0.55555556]\n",
      " [1.11111111 1.66666667]\n",
      " [2.22222222 2.77777778]\n",
      " [3.33333333 3.88888889]\n",
      " [4.44444444 5.        ]]\n",
      "\n",
      "[[0.         0.55555556 1.11111111 1.66666667 2.22222222]\n",
      " [2.77777778 3.33333333 3.88888889 4.44444444 5.        ]]\n",
      "\n",
      "[0.         0.55555556 1.11111111 1.66666667 2.22222222 2.77777778\n",
      " 3.33333333 3.88888889 4.44444444 5.        ]\n"
     ]
    }
   ],
   "source": [
    "\n",
    "vec4 = np.linspace(0,5,10)\n",
    "print(vec4)\n",
    "print('')\n",
    "print(vec4.reshape(5,2))\n",
    "print('')\n",
    "vec4_reshaped = vec4.reshape(2,5)\n",
    "print(vec4_reshaped)\n",
    "print('')\n",
    "print(vec4)"
   ]
  },
  {
   "cell_type": "code",
   "execution_count": 43,
   "metadata": {},
   "outputs": [
    {
     "name": "stdout",
     "output_type": "stream",
     "text": [
      "[[0. 0. 0.]\n",
      " [0. 0. 0.]\n",
      " [0. 0. 0.]\n",
      " [0. 0. 0.]\n",
      " [0. 0. 0.]]\n",
      "\n",
      "[[1. 1. 1. 1. 1.]\n",
      " [1. 1. 1. 1. 1.]\n",
      " [1. 1. 1. 1. 1.]]\n",
      "\n",
      "[[1. 0. 0. 0. 0.]\n",
      " [0. 1. 0. 0. 0.]\n",
      " [0. 0. 1. 0. 0.]\n",
      " [0. 0. 0. 1. 0.]\n",
      " [0. 0. 0. 0. 1.]]\n"
     ]
    }
   ],
   "source": [
    "mat2 = np.zeros([5,3])\n",
    "print(mat2)\n",
    "mat3 = np.ones((3,5))\n",
    "print('')\n",
    "print(mat3)\n",
    "mat4 = np.eye(5)\n",
    "print('')\n",
    "print(mat4)"
   ]
  },
  {
   "cell_type": "code",
   "execution_count": 44,
   "metadata": {},
   "outputs": [
    {
     "name": "stdout",
     "output_type": "stream",
     "text": [
      "[1 2 3 4 5]\n",
      "\n",
      "[3 4 5 6 7]\n",
      "\n",
      "[ 4  6  8 10 12]\n",
      "\n",
      "[ 3  8 15 24 35]\n",
      "\n",
      "[1.         0.5        0.33333333 0.25       0.2       ]\n",
      "\n",
      "[1.73205081 2.         2.23606798 2.44948974 2.64575131]\n"
     ]
    }
   ],
   "source": [
    "# we can +-*/ arrays together if they're the right size\n",
    "vec5 = np.arange(1,6)\n",
    "vec6 = np.arange(3,8)\n",
    "print(vec5)\n",
    "print('')\n",
    "print(vec6)\n",
    "print('')\n",
    "print(vec5+vec6)\n",
    "print('')\n",
    "print(vec5*vec6)\n",
    "print('')\n",
    "print(1/vec5)\n",
    "print('')\n",
    "print(np.sqrt(vec6))"
   ]
  },
  {
   "cell_type": "code",
   "execution_count": 71,
   "metadata": {},
   "outputs": [
    {
     "name": "stdout",
     "output_type": "stream",
     "text": [
      "[[1 2 1]\n",
      " [4 5 9]\n",
      " [1 8 9]]\n",
      "\n",
      "[1 2 3]\n",
      "\n",
      "[ 8 41 44]\n"
     ]
    }
   ],
   "source": [
    "# we can do matrix multiplication\n",
    "print(mat)\n",
    "print('')\n",
    "print(vec)\n",
    "print()\n",
    "product = np.matmul(mat,vec)\n",
    "print(product)"
   ]
  },
  {
   "cell_type": "code",
   "execution_count": 72,
   "metadata": {},
   "outputs": [
    {
     "name": "stdout",
     "output_type": "stream",
     "text": [
      "[1. 2. 3.]\n",
      "\n",
      "[[ 0.5         0.18518519 -0.24074074]\n",
      " [ 0.5        -0.14814815  0.09259259]\n",
      " [-0.5         0.11111111  0.05555556]]\n"
     ]
    }
   ],
   "source": [
    "print(np.linalg.solve(mat,product))\n",
    "print('')\n",
    "print(np.linalg.inv(mat))"
   ]
  },
  {
   "cell_type": "code",
   "execution_count": 73,
   "metadata": {},
   "outputs": [
    {
     "name": "stdout",
     "output_type": "stream",
     "text": [
      "['blue' 'red' 'orange' 'purple' 'purple' 'orange' 'Red' '6']\n",
      "['6' 'Red' 'blue' 'orange' 'purple' 'red']\n"
     ]
    }
   ],
   "source": [
    "# we can find the unique values in an array\n",
    "vec7 = np.array(['blue','red','orange','purple','purple','orange','Red',6])\n",
    "print(vec7)\n",
    "print(np.unique(vec7))"
   ]
  },
  {
   "cell_type": "code",
   "execution_count": 85,
   "metadata": {},
   "outputs": [
    {
     "name": "stdout",
     "output_type": "stream",
     "text": [
      "[[0.55758362 0.97541474 0.29950606 0.41692738 0.48442469]\n",
      " [0.41698214 0.39562806 0.60610672 0.34716633 0.79173454]\n",
      " [0.00520897 0.86662179 0.60083127 0.1309591  0.20601309]\n",
      " [0.99523426 0.13568653 0.98231275 0.5464639  0.69956647]\n",
      " [0.89293673 0.53405506 0.556141   0.19039073 0.9617448 ]]\n",
      "\n",
      "[[-0.08225221 -0.3223889   0.70239359 -0.68171242  0.69011925]\n",
      " [ 0.60944467 -0.3745554  -0.48426815  0.70241503 -1.40911796]\n",
      " [ 0.01045847 -0.21058198 -1.11093635 -0.23088127  0.27468025]\n",
      " [ 0.11078805  0.55176782 -1.17179112  0.14516162  0.12144954]\n",
      " [-0.00623346 -0.32587094  0.96614096  0.75078466  1.36910696]\n",
      " [-1.15630517 -0.03290334 -0.26621145 -0.66905029 -1.20669386]\n",
      " [ 0.31109631 -0.45356069 -2.31926619 -0.36826746  0.15112583]\n",
      " [-0.09202674  0.81334626  1.81204585  0.43076256 -0.86768194]\n",
      " [ 0.59767399 -0.7322376  -1.17095573 -1.12089461  0.76007895]\n",
      " [-0.92931307  1.43829347  1.37678545  0.53394509 -0.27838902]]\n"
     ]
    }
   ],
   "source": [
    "# we can also use numpy to generate samples of a random variable\n",
    "rand_mat = np.random.rand(5,5) # uniform random variable\n",
    "print(rand_mat)\n",
    "rand_mat2 = np.random.randn(10,5) # standard normal random variable\n",
    "print('')\n",
    "print(rand_mat2)"
   ]
  },
  {
   "cell_type": "code",
   "execution_count": 75,
   "metadata": {},
   "outputs": [
    {
     "name": "stdout",
     "output_type": "stream",
     "text": [
      "0.4849557216812939\n",
      "0.9212023208726394\n"
     ]
    }
   ],
   "source": [
    "# we can also use numpy for statistical tools on arrays\n",
    "print(np.mean(rand_mat))\n",
    "print(np.std(rand_mat2))"
   ]
  },
  {
   "cell_type": "code",
   "execution_count": 76,
   "metadata": {},
   "outputs": [
    {
     "name": "stdout",
     "output_type": "stream",
     "text": [
      "0.007274161913238375\n",
      "2.2737762606831176\n"
     ]
    }
   ],
   "source": [
    "print(np.min(rand_mat))\n",
    "print(np.max(rand_mat2))"
   ]
  },
  {
   "cell_type": "code",
   "execution_count": 77,
   "metadata": {},
   "outputs": [],
   "source": [
    "# break here for next video!"
   ]
  },
  {
   "cell_type": "code",
   "execution_count": 78,
   "metadata": {},
   "outputs": [
    {
     "name": "stdout",
     "output_type": "stream",
     "text": [
      "[ 0.11470824 -1.06213769  1.4569938  -1.08555452  0.2175733  -0.18859938\n",
      "  0.08978912  0.84233829 -0.91140556 -0.66755279  0.81706453  1.09919974\n",
      " -0.49294515 -0.25035491 -0.21184092 -1.63061629 -1.5638468   0.09959487\n",
      "  0.30905996]\n",
      "0.0897891233305385\n"
     ]
    }
   ],
   "source": [
    "# how do we access entries in a numpy vector\n",
    "rand_vec = np.random.randn(19)\n",
    "print(rand_vec)\n",
    "print(rand_vec[6])"
   ]
  },
  {
   "cell_type": "code",
   "execution_count": 79,
   "metadata": {},
   "outputs": [
    {
     "name": "stdout",
     "output_type": "stream",
     "text": [
      "[ 0.2175733  -0.18859938  0.08978912  0.84233829 -0.91140556]\n"
     ]
    }
   ],
   "source": [
    "# we can access multiple entries at once using :\n",
    "print(rand_vec[4:9])"
   ]
  },
  {
   "cell_type": "code",
   "execution_count": 80,
   "metadata": {},
   "outputs": [
    {
     "name": "stdout",
     "output_type": "stream",
     "text": [
      "[ 0  3  6  9 12]\n",
      "[ 0.11470824 -1.08555452  0.08978912 -0.66755279 -0.49294515]\n"
     ]
    }
   ],
   "source": [
    "# we can also access multiple non-consecutive entries using np.arange\n",
    "print(np.arange(0,15,3))\n",
    "print(rand_vec[np.arange(0,15,3)])"
   ]
  },
  {
   "cell_type": "code",
   "execution_count": 99,
   "metadata": {},
   "outputs": [
    {
     "name": "stdout",
     "output_type": "stream",
     "text": [
      "[[3.         3.         3.         0.41692738 0.48442469]\n",
      " [3.         3.         3.         0.34716633 0.79173454]\n",
      " [0.00520897 0.86662179 0.60083127 0.1309591  0.20601309]\n",
      " [0.99523426 0.13568653 0.98231275 0.5464639  0.69956647]\n",
      " [0.89293673 0.53405506 0.556141   0.19039073 0.9617448 ]]\n",
      "\n",
      "3.0\n",
      "\n",
      "0.19039073398996564\n",
      "\n",
      "0.9823127487627432\n",
      "\n",
      "3.0\n"
     ]
    }
   ],
   "source": [
    "# what about matrices\n",
    "print(rand_mat)\n",
    "print('')\n",
    "print(rand_mat[1][2])\n",
    "print('')\n",
    "print(rand_mat[4][3])\n",
    "print('')\n",
    "print(rand_mat[3][2])\n",
    "print('')\n",
    "print(rand_mat[1,2])\n"
   ]
  },
  {
   "cell_type": "code",
   "execution_count": 100,
   "metadata": {},
   "outputs": [
    {
     "name": "stdout",
     "output_type": "stream",
     "text": [
      "[[3. 3.]\n",
      " [3. 3.]]\n"
     ]
    }
   ],
   "source": [
    "print(rand_mat[0:2,1:3])"
   ]
  },
  {
   "cell_type": "code",
   "execution_count": 93,
   "metadata": {},
   "outputs": [
    {
     "name": "stdout",
     "output_type": "stream",
     "text": [
      "[ 0.11470824 -1.06213769  1.4569938   1.          2.          3.\n",
      "  0.08978912  0.84233829 -0.91140556 -0.66755279  0.81706453  1.09919974\n",
      " -0.49294515 -0.25035491 -0.21184092 -1.63061629 -1.5638468   0.09959487\n",
      "  0.30905996]\n",
      "\n",
      "[ 0.11470824 -1.06213769  1.4569938   4.          4.          3.\n",
      "  0.08978912  0.84233829 -0.91140556 -0.66755279  0.81706453  1.09919974\n",
      " -0.49294515 -0.25035491 -0.21184092 -1.63061629 -1.5638468   0.09959487\n",
      "  0.30905996]\n",
      "\n",
      "[ 0.11470824 -1.06213769  1.4569938   1.          2.          3.\n",
      "  0.08978912  0.84233829 -0.91140556 -0.66755279  0.81706453  1.09919974\n",
      " -0.49294515 -0.25035491 -0.21184092 -1.63061629 -1.5638468   0.09959487\n",
      "  0.30905996]\n",
      "[ 0.11470824 -1.06213769  1.4569938   0.          0.          0.\n",
      "  0.08978912  0.84233829 -0.91140556 -0.66755279  0.81706453  1.09919974\n",
      " -0.49294515 -0.25035491 -0.21184092 -1.63061629 -1.5638468   0.09959487\n",
      "  0.30905996]\n"
     ]
    }
   ],
   "source": [
    "# let's change some values in an array!\n",
    "print(rand_vec)\n",
    "rand_vec[3:5] = 4\n",
    "print('')\n",
    "print(rand_vec)\n",
    "rand_vec[3:6] = [1,2,3]\n",
    "print('')\n",
    "print(rand_vec)\n",
    "rand_vec[3:6] = 0\n",
    "print(rand_vec)"
   ]
  },
  {
   "cell_type": "code",
   "execution_count": 101,
   "metadata": {},
   "outputs": [
    {
     "name": "stdout",
     "output_type": "stream",
     "text": [
      "[[3.         3.         3.         0.41692738 0.48442469]\n",
      " [3.         3.         3.         0.34716633 0.79173454]\n",
      " [0.00520897 0.86662179 0.60083127 0.1309591  0.20601309]\n",
      " [0.99523426 0.13568653 0.98231275 0.5464639  0.69956647]\n",
      " [0.89293673 0.53405506 0.556141   0.19039073 0.9617448 ]]\n",
      "\n",
      "[[3.         3.         3.         0.41692738 0.48442469]\n",
      " [3.         3.         3.         0.         0.        ]\n",
      " [0.00520897 0.86662179 0.60083127 0.         0.        ]\n",
      " [0.99523426 0.13568653 0.98231275 0.5464639  0.69956647]\n",
      " [0.89293673 0.53405506 0.556141   0.19039073 0.9617448 ]]\n"
     ]
    }
   ],
   "source": [
    "print(rand_mat)\n",
    "rand_mat[1:3,3:5] = 0\n",
    "print('')\n",
    "print(rand_mat)"
   ]
  },
  {
   "cell_type": "code",
   "execution_count": 98,
   "metadata": {},
   "outputs": [
    {
     "name": "stdout",
     "output_type": "stream",
     "text": [
      "[[3. 3. 3.]\n",
      " [3. 3. 3.]]\n",
      "\n",
      "[[3. 3. 3.]\n",
      " [3. 3. 3.]]\n"
     ]
    }
   ],
   "source": [
    "sub_mat = rand_mat[0:2,0:3]\n",
    "print(sub_mat)\n",
    "print('')\n",
    "sub_mat[:] = 3\n",
    "print(sub_mat)\n"
   ]
  },
  {
   "cell_type": "code",
   "execution_count": 105,
   "metadata": {},
   "outputs": [
    {
     "name": "stdout",
     "output_type": "stream",
     "text": [
      "[[3.         3.         3.         0.41692738 0.48442469]\n",
      " [3.         3.         3.         0.         0.        ]\n",
      " [0.00520897 0.86662179 0.60083127 0.         0.        ]\n",
      " [0.99523426 0.13568653 0.98231275 0.5464639  0.69956647]\n",
      " [0.89293673 0.53405506 0.556141   0.19039073 0.9617448 ]]\n"
     ]
    }
   ],
   "source": [
    "print(rand_mat)"
   ]
  },
  {
   "cell_type": "code",
   "execution_count": 107,
   "metadata": {},
   "outputs": [
    {
     "name": "stdout",
     "output_type": "stream",
     "text": [
      "[[99. 99. 99.]\n",
      " [99. 99. 99.]]\n",
      "\n",
      "[[3.         3.         3.         0.41692738 0.48442469]\n",
      " [3.         3.         3.         0.         0.        ]\n",
      " [0.00520897 0.86662179 0.60083127 0.         0.        ]\n",
      " [0.99523426 0.13568653 0.98231275 0.5464639  0.69956647]\n",
      " [0.89293673 0.53405506 0.556141   0.19039073 0.9617448 ]]\n"
     ]
    }
   ],
   "source": [
    "sub_mat2 = rand_mat[0:2,0:3].copy()\n",
    "sub_mat2[:] = 99\n",
    "print(sub_mat2)\n",
    "print(\"\")\n",
    "print(rand_mat)\n"
   ]
  },
  {
   "cell_type": "code",
   "execution_count": 108,
   "metadata": {},
   "outputs": [],
   "source": [
    "# break here for next video"
   ]
  },
  {
   "cell_type": "code",
   "execution_count": 111,
   "metadata": {},
   "outputs": [
    {
     "name": "stdout",
     "output_type": "stream",
     "text": [
      "[-0.570723    0.29508444 -0.36904258  1.38973254 -1.52182246 -0.99855081\n",
      "  0.81005743 -0.26156109  0.10781866  1.43497376  0.22907186 -1.17393285\n",
      " -1.52313523 -0.59838988 -0.48212935]\n",
      "\n",
      "[False  True False  True False False  True False  True  True  True False\n",
      " False False False]\n",
      "[0.29508444 1.38973254 0.81005743 0.10781866 1.43497376 0.22907186]\n"
     ]
    }
   ],
   "source": [
    "# we can also access entries with logicals\n",
    "rand_vec = np.random.randn(15)\n",
    "\n",
    "print(rand_vec)\n",
    "print('')\n",
    "print(rand_vec>0)\n",
    "print(rand_vec[rand_vec>0])"
   ]
  },
  {
   "cell_type": "code",
   "execution_count": 112,
   "metadata": {},
   "outputs": [
    {
     "name": "stdout",
     "output_type": "stream",
     "text": [
      "[[-0.08225221 -0.3223889   0.70239359 -0.68171242  0.69011925]\n",
      " [ 0.60944467 -0.3745554  -0.48426815  0.70241503 -1.40911796]\n",
      " [ 0.01045847 -0.21058198 -1.11093635 -0.23088127  0.27468025]\n",
      " [ 0.11078805  0.55176782 -1.17179112  0.14516162  0.12144954]\n",
      " [-0.00623346 -0.32587094  0.96614096  0.75078466  1.36910696]\n",
      " [-1.15630517 -0.03290334 -0.26621145 -0.66905029 -1.20669386]\n",
      " [ 0.31109631 -0.45356069 -2.31926619 -0.36826746  0.15112583]\n",
      " [-0.09202674  0.81334626  1.81204585  0.43076256 -0.86768194]\n",
      " [ 0.59767399 -0.7322376  -1.17095573 -1.12089461  0.76007895]\n",
      " [-0.92931307  1.43829347  1.37678545  0.53394509 -0.27838902]]\n",
      "[0.70239359 0.69011925 0.60944467 0.70241503 0.01045847 0.27468025\n",
      " 0.11078805 0.55176782 0.14516162 0.12144954 0.96614096 0.75078466\n",
      " 1.36910696 0.31109631 0.15112583 0.81334626 1.81204585 0.43076256\n",
      " 0.59767399 0.76007895 1.43829347 1.37678545 0.53394509]\n"
     ]
    }
   ],
   "source": [
    "print(rand_mat2)\n",
    "print(rand_mat2[rand_mat2>0])"
   ]
  },
  {
   "cell_type": "code",
   "execution_count": 113,
   "metadata": {},
   "outputs": [
    {
     "name": "stdout",
     "output_type": "stream",
     "text": [
      "[-0.570723    0.29508444 -0.36904258  1.38973254 -1.52182246 -0.99855081\n",
      "  0.81005743 -0.26156109  0.10781866  1.43497376  0.22907186 -1.17393285\n",
      " -1.52313523 -0.59838988 -0.48212935]\n",
      "\n",
      "[-0.570723    0.29508444 -0.36904258 -5.         -1.52182246 -0.99855081\n",
      " -5.         -0.26156109  0.10781866 -5.          0.22907186 -1.17393285\n",
      " -1.52313523 -0.59838988 -0.48212935]\n"
     ]
    }
   ],
   "source": [
    "\n",
    "print(rand_vec)\n",
    "print('')\n",
    "rand_vec[rand_vec>0.5] = -5\n",
    "print(rand_vec)"
   ]
  },
  {
   "cell_type": "code",
   "execution_count": 114,
   "metadata": {},
   "outputs": [],
   "source": [
    "# let's save some arrays on the disk for use later!\n",
    "np.save('saved_file_name',rand_mat2)\n"
   ]
  },
  {
   "cell_type": "code",
   "execution_count": 117,
   "metadata": {},
   "outputs": [],
   "source": [
    "np.savez('zipped_file_name',rand_mat=rand_mat,rand_mat2=rand_mat2)"
   ]
  },
  {
   "cell_type": "code",
   "execution_count": 118,
   "metadata": {},
   "outputs": [
    {
     "name": "stdout",
     "output_type": "stream",
     "text": [
      "[[-0.08225221 -0.3223889   0.70239359 -0.68171242  0.69011925]\n",
      " [ 0.60944467 -0.3745554  -0.48426815  0.70241503 -1.40911796]\n",
      " [ 0.01045847 -0.21058198 -1.11093635 -0.23088127  0.27468025]\n",
      " [ 0.11078805  0.55176782 -1.17179112  0.14516162  0.12144954]\n",
      " [-0.00623346 -0.32587094  0.96614096  0.75078466  1.36910696]\n",
      " [-1.15630517 -0.03290334 -0.26621145 -0.66905029 -1.20669386]\n",
      " [ 0.31109631 -0.45356069 -2.31926619 -0.36826746  0.15112583]\n",
      " [-0.09202674  0.81334626  1.81204585  0.43076256 -0.86768194]\n",
      " [ 0.59767399 -0.7322376  -1.17095573 -1.12089461  0.76007895]\n",
      " [-0.92931307  1.43829347  1.37678545  0.53394509 -0.27838902]]\n",
      "\n",
      "<numpy.lib.npyio.NpzFile object at 0x00000190471A4BC8>\n"
     ]
    }
   ],
   "source": [
    "# now let's load it\n",
    "loaded_vec = np.load('saved_file_name.npy')\n",
    "loaded_zip = np.load('zipped_file_name.npz')\n",
    "\n",
    "print(loaded_vec)\n",
    "print('')\n",
    "print(loaded_zip)"
   ]
  },
  {
   "cell_type": "code",
   "execution_count": 119,
   "metadata": {},
   "outputs": [
    {
     "name": "stdout",
     "output_type": "stream",
     "text": [
      "[[3.         3.         3.         0.41692738 0.48442469]\n",
      " [3.         3.         3.         0.         0.        ]\n",
      " [0.00520897 0.86662179 0.60083127 0.         0.        ]\n",
      " [0.99523426 0.13568653 0.98231275 0.5464639  0.69956647]\n",
      " [0.89293673 0.53405506 0.556141   0.19039073 0.9617448 ]]\n",
      "\n",
      "[[-0.08225221 -0.3223889   0.70239359 -0.68171242  0.69011925]\n",
      " [ 0.60944467 -0.3745554  -0.48426815  0.70241503 -1.40911796]\n",
      " [ 0.01045847 -0.21058198 -1.11093635 -0.23088127  0.27468025]\n",
      " [ 0.11078805  0.55176782 -1.17179112  0.14516162  0.12144954]\n",
      " [-0.00623346 -0.32587094  0.96614096  0.75078466  1.36910696]\n",
      " [-1.15630517 -0.03290334 -0.26621145 -0.66905029 -1.20669386]\n",
      " [ 0.31109631 -0.45356069 -2.31926619 -0.36826746  0.15112583]\n",
      " [-0.09202674  0.81334626  1.81204585  0.43076256 -0.86768194]\n",
      " [ 0.59767399 -0.7322376  -1.17095573 -1.12089461  0.76007895]\n",
      " [-0.92931307  1.43829347  1.37678545  0.53394509 -0.27838902]]\n",
      "\n",
      "[[3.         3.         3.         0.41692738 0.48442469]\n",
      " [3.         3.         3.         0.         0.        ]\n",
      " [0.00520897 0.86662179 0.60083127 0.         0.        ]\n",
      " [0.99523426 0.13568653 0.98231275 0.5464639  0.69956647]\n",
      " [0.89293673 0.53405506 0.556141   0.19039073 0.9617448 ]]\n"
     ]
    }
   ],
   "source": [
    "print(loaded_zip['rand_mat'])\n",
    "print('')\n",
    "print(loaded_zip['rand_mat2'])\n",
    "print('')\n",
    "new_array  = loaded_zip['rand_mat']\n",
    "print(new_array)"
   ]
  },
  {
   "cell_type": "code",
   "execution_count": 120,
   "metadata": {},
   "outputs": [
    {
     "name": "stdout",
     "output_type": "stream",
     "text": [
      "[[3.         3.         3.         0.41692738 0.48442469]\n",
      " [3.         3.         3.         0.         0.        ]\n",
      " [0.00520897 0.86662179 0.60083127 0.         0.        ]\n",
      " [0.99523426 0.13568653 0.98231275 0.5464639  0.69956647]\n",
      " [0.89293673 0.53405506 0.556141   0.19039073 0.9617448 ]]\n",
      "\n",
      "[[3.         3.         3.         0.41692738 0.48442469]\n",
      " [3.         3.         3.         0.         0.        ]\n",
      " [0.00520897 0.86662179 0.60083127 0.         0.        ]\n",
      " [0.99523426 0.13568653 0.98231275 0.5464639  0.69956647]\n",
      " [0.89293673 0.53405506 0.556141   0.19039073 0.9617448 ]]\n"
     ]
    }
   ],
   "source": [
    "# we can also save/load as text files...but only single variables\n",
    "np.savetxt('text_file_name.txt',rand_mat,delimiter=',')\n",
    "rand_mat_txt = np.loadtxt('text_file_name.txt',delimiter=',')\n",
    "print(rand_mat)\n",
    "print('')\n",
    "print(rand_mat_txt)"
   ]
  },
  {
   "cell_type": "code",
   "execution_count": null,
   "metadata": {},
   "outputs": [],
   "source": []
  },
  {
   "cell_type": "code",
   "execution_count": null,
   "metadata": {},
   "outputs": [],
   "source": []
  }
 ],
 "metadata": {
  "kernelspec": {
   "display_name": "Python 3",
   "language": "python",
   "name": "python3"
  },
  "language_info": {
   "codemirror_mode": {
    "name": "ipython",
    "version": 3
   },
   "file_extension": ".py",
   "mimetype": "text/x-python",
   "name": "python",
   "nbconvert_exporter": "python",
   "pygments_lexer": "ipython3",
   "version": "3.7.4"
  }
 },
 "nbformat": 4,
 "nbformat_minor": 2
}
